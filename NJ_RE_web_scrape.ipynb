{
 "cells": [
  {
   "attachments": {},
   "cell_type": "markdown",
   "metadata": {},
   "source": [
    "Import Dependencies"
   ]
  },
  {
   "cell_type": "code",
   "execution_count": 2,
   "metadata": {},
   "outputs": [],
   "source": [
    "import timeit\n",
    "import pandas as pd\n",
    "from requests import get\n",
    "from bs4 import BeautifulSoup\n",
    "\n",
    "import warnings\n",
    "warnings.filterwarnings('ignore')"
   ]
  },
  {
   "attachments": {},
   "cell_type": "markdown",
   "metadata": {},
   "source": [
    "Scrape the Properties"
   ]
  },
  {
   "cell_type": "code",
   "execution_count": 53,
   "metadata": {},
   "outputs": [],
   "source": [
    "start = 1\n",
    "stop  = 10\n",
    "\n",
    "headers = {'User-Agent': 'Mozilla/5.0 (X11; Linux x86_64) AppleWebKit/537.11 (KHTML, like Gecko) Chrome/23.0.1271.64 Safari/537.11',\n",
    "           'Accept': 'text/html,application/xhtml+xml,application/xml;q=0.9,*/*;q=0.8',\n",
    "           'Accept-Charset': 'ISO-8859-1,utf-8;q=0.7,*;q=0.3',\n",
    "           'Accept-Encoding': 'none',\n",
    "           'Accept-Language': 'en-US,en;q=0.8',\n",
    "           'Connection': 'keep-alive'}"
   ]
  },
  {
   "attachments": {},
   "cell_type": "markdown",
   "metadata": {},
   "source": [
    "Define a function to retrieve each feature"
   ]
  },
  {
   "cell_type": "code",
   "execution_count": 90,
   "metadata": {},
   "outputs": [],
   "source": [
    "# def property_name(soupy_object):   # return house or property name\n",
    "#     try:\n",
    "#         name = soupy_object.find('span', attrs = {'class':'undefined'}).text\n",
    "#     except:\n",
    "#         name = None\n",
    "#     return name\n",
    "\n",
    "def address_details(soupy_object):   # return address of property\n",
    "    try:\n",
    "        # address = soupy_object.find('div', attrs = {'id':'fullStreetAddress'}).text\n",
    "        street_address = soupy_object.find('div', class_='street-address')['title']\n",
    "        city_state_zip = soupy_object.find('div', class_='dp-subtext bp-cityStateZip').text.split(', ')\n",
    "        city = city_state_zip[0]\n",
    "        state, zipcode = city_state_zip[1].split(' ')\n",
    "        address = \", \".join(filter(None, [street_address, city, state, zipcode[:5]]))\n",
    "    except:\n",
    "        address = None\n",
    "    return address\n",
    "\n",
    "def total_price(soupy_object):   # return total price of property\n",
    "    try:\n",
    "        price = soupy_object.find('div', class_='stat-block beds-section', attrs = {'data-rf-test-id':'abp-price'}).find('div', class_='statsValue').text\n",
    "    except:\n",
    "        price = None\n",
    "    return price\n",
    "\n",
    "# def rate_sqft(soupy_object):   # return total price of property\n",
    "#     try:\n",
    "#         rate = soupy_object.find('div', attrs = {'id':\"pricePerUnitArea\"}).text.split(' ')[1]\n",
    "#     except:\n",
    "#         rate = None\n",
    "#     return rate\n",
    "\n",
    "def area_type(soupy_object):   # return area parameters\n",
    "    try:\n",
    "        areatyp = soupy_object.find('span', text='Property Type').parent.findNext('div').text\n",
    "    except:\n",
    "        areatyp = None\n",
    "    return areatyp\n",
    "\n",
    "def bedroom_count(soupy_object):   # return number of bedrooms\n",
    "    try:\n",
    "        bedroom = soupy_object.find('div', class_='stat-block beds-section', attrs = {'data-rf-test-id':'abp-beds'}).find('div', class_='statsValue').text\n",
    "    except:\n",
    "        bedroom = None\n",
    "    return bedroom\n",
    "\n",
    "def bathroom_count(soupy_object):   # return number of bathrooms\n",
    "    try:\n",
    "        bathroom = soupy_object.find('div', class_='stat-block baths-section', attrs = {'data-rf-test-id':'abp-baths'}).find('div', class_='statsValue').text\n",
    "    except:\n",
    "        bathroom = None\n",
    "    return bathroom\n",
    "\n",
    "def square_feet(soupy_object):   # return number of square feet\n",
    "    try:\n",
    "        sqft_val = soupy_object.find('div', class_='stat-block sqft-section', attrs = {'data-rf-test-id':'abp-sqFt'}).find('span', class_='statsValue').text\n",
    "        sqft_units = soupy_object.find('div', class_='stat-block sqft-section', attrs = {'data-rf-test-id':'abp-sqFt'}).find('div', class_='statsLabel').text\n",
    "        sqft = sqft_val + ' ' + sqft_units\n",
    "    except:\n",
    "        sqft = None\n",
    "    return sqft\n",
    "\n",
    "def lot_size(soupy_object):\n",
    "    try:\n",
    "        lot_size = soupy_object.find('span', text='Lot Size').parent.findNext('div').text\n",
    "    except:\n",
    "        lot_size = None\n",
    "    return lot_size\n",
    "\n",
    "def year_built(soupy_object):   # return age of property\n",
    "    try:\n",
    "        year_built = soupy_object.find('span', text='Year Built').parent.findNext('div').text\n",
    "    except:\n",
    "        year_built = None\n",
    "    return year_built\n",
    "\n",
    "# def availability(soupy_object):   # return area parameters\n",
    "#     try:\n",
    "#         avail = soupy_object.find('span', attrs = {'id':'Availability_Lbl'}).text\n",
    "#     except:\n",
    "#         avail = None\n",
    "#     return avail"
   ]
  },
  {
   "attachments": {},
   "cell_type": "markdown",
   "metadata": {},
   "source": [
    "Compile into a single dataframe"
   ]
  },
  {
   "cell_type": "code",
   "execution_count": 91,
   "metadata": {},
   "outputs": [],
   "source": [
    "data_list = []\n",
    "def get_all(start, stop):\n",
    "    for pagenumber in range(start, stop):\n",
    "        url = f'https://www.redfin.com/state/New-Jersey/filter/sort=lo-price,min-year-built=2021,max-year-built=2023/page-{pagenumber}'\n",
    "        req = get(url, headers = headers)\n",
    "        soup = BeautifulSoup(req.content, 'html.parser')\n",
    "        links = soup.find_all('a', attrs= {\"class\":\"slider-item\"})\n",
    "        # print(links)\n",
    "        \n",
    "        for k, item in enumerate(links):\n",
    "            main_url = 'https://www.redfin.com'\n",
    "            sub_url = item.get('href')\n",
    "            data_url = main_url + sub_url\n",
    "            request = get(data_url, headers=headers)\n",
    "            soup_get = BeautifulSoup(request.content, 'html.parser')\n",
    "\n",
    "            # name = property_name(soup_get)\n",
    "            address = address_details(soup_get)\n",
    "            price = total_price(soup_get)\n",
    "            # rate = rate_sqft(soup_get)\n",
    "            areatyp = area_type(soup_get)\n",
    "            bedroom = bedroom_count(soup_get)\n",
    "            bathroom = bathroom_count(soup_get)\n",
    "            sqft = square_feet(soup_get)\n",
    "            lot_siz = lot_size(soup_get)\n",
    "            yr_built = year_built(soup_get)\n",
    "            # avail = availability(soup_get)\n",
    "        \n",
    "            data = {'Location': address, 'Price':price, 'Area_Type':areatyp, 'Bedroom': bedroom, 'Bathroom':bathroom, \n",
    "            'Square_feet':sqft, 'Lot_Size':lot_siz, 'Year_Built':yr_built}\n",
    "            # data = {'Bedroom': bedroom}\n",
    "            data_list.append(data)\n",
    "            # break\n",
    "        # break\n",
    "        timestart = timeit.default_timer()\n",
    "        timestop = timeit.default_timer()\n",
    "        print(f'You scraped page no : {pagenumber}')\n",
    "        print('Time :', timestop - timestart)\n",
    "        \n",
    "    return data_list"
   ]
  },
  {
   "attachments": {},
   "cell_type": "markdown",
   "metadata": {},
   "source": [
    "Define Dataframe"
   ]
  },
  {
   "cell_type": "code",
   "execution_count": 92,
   "metadata": {},
   "outputs": [
    {
     "name": "stdout",
     "output_type": "stream",
     "text": [
      "You scraped page no : 1\n",
      "Time : 9.999894245993346e-08\n",
      "You scraped page no : 2\n",
      "Time : 3.0000046535860747e-07\n",
      "You scraped page no : 3\n",
      "Time : 2.00001522898674e-07\n",
      "You scraped page no : 4\n",
      "Time : 1.9999970390927047e-07\n",
      "You scraped page no : 5\n",
      "Time : 2.00001522898674e-07\n",
      "You scraped page no : 6\n",
      "Time : 5.000001692678779e-07\n",
      "You scraped page no : 7\n",
      "Time : 4.000012268079445e-07\n",
      "You scraped page no : 8\n",
      "Time : 3.0000046535860747e-07\n",
      "You scraped page no : 9\n",
      "Time : 3.0000046535860747e-07\n"
     ]
    }
   ],
   "source": [
    "# get_all(start, stop)\n",
    "df1 = pd.DataFrame(get_all(start, stop))"
   ]
  },
  {
   "attachments": {},
   "cell_type": "markdown",
   "metadata": {},
   "source": [
    "Verify Dataframe"
   ]
  },
  {
   "cell_type": "code",
   "execution_count": 93,
   "metadata": {},
   "outputs": [
    {
     "data": {
      "text/html": [
       "<div>\n",
       "<style scoped>\n",
       "    .dataframe tbody tr th:only-of-type {\n",
       "        vertical-align: middle;\n",
       "    }\n",
       "\n",
       "    .dataframe tbody tr th {\n",
       "        vertical-align: top;\n",
       "    }\n",
       "\n",
       "    .dataframe thead th {\n",
       "        text-align: right;\n",
       "    }\n",
       "</style>\n",
       "<table border=\"1\" class=\"dataframe\">\n",
       "  <thead>\n",
       "    <tr style=\"text-align: right;\">\n",
       "      <th></th>\n",
       "      <th>Location</th>\n",
       "      <th>Price</th>\n",
       "      <th>Area_Type</th>\n",
       "      <th>Bedroom</th>\n",
       "      <th>Bathroom</th>\n",
       "      <th>Square_feet</th>\n",
       "      <th>Lot_Size</th>\n",
       "      <th>Year_Built</th>\n",
       "    </tr>\n",
       "  </thead>\n",
       "  <tbody>\n",
       "    <tr>\n",
       "      <th>0</th>\n",
       "      <td>19 Goldenrod Pl, Vernon Twp., NJ, 07418</td>\n",
       "      <td>$79,900</td>\n",
       "      <td>Single Family Residential</td>\n",
       "      <td>2</td>\n",
       "      <td>2</td>\n",
       "      <td>— Sq Ft</td>\n",
       "      <td>0.37 Acres</td>\n",
       "      <td>2023</td>\n",
       "    </tr>\n",
       "    <tr>\n",
       "      <th>1</th>\n",
       "      <td>45 Aldine Shirley Rd, Elmer, NJ, 08318</td>\n",
       "      <td>$84,900</td>\n",
       "      <td>Vacant Land</td>\n",
       "      <td>—</td>\n",
       "      <td>—</td>\n",
       "      <td>1.00 Acre (Lot)</td>\n",
       "      <td>1 Acre</td>\n",
       "      <td>2022</td>\n",
       "    </tr>\n",
       "    <tr>\n",
       "      <th>2</th>\n",
       "      <td>1 Victory Ave #16, Pennsville, NJ, 08070</td>\n",
       "      <td>$94,900</td>\n",
       "      <td>Single Family Residential</td>\n",
       "      <td>2</td>\n",
       "      <td>1</td>\n",
       "      <td>896 Sq Ft</td>\n",
       "      <td>18.45 Acres</td>\n",
       "      <td>2021</td>\n",
       "    </tr>\n",
       "    <tr>\n",
       "      <th>3</th>\n",
       "      <td>1205 Farrell Ave #4, Cherry Hill, NJ, 08002</td>\n",
       "      <td>$109,000</td>\n",
       "      <td>Single Family Residential</td>\n",
       "      <td>2</td>\n",
       "      <td>1</td>\n",
       "      <td>784 Sq Ft</td>\n",
       "      <td>1,950 Sq. Ft.</td>\n",
       "      <td>2023</td>\n",
       "    </tr>\n",
       "    <tr>\n",
       "      <th>4</th>\n",
       "      <td>1887 N Delsea Dr #8, Vineland, NJ, 08360</td>\n",
       "      <td>$114,900</td>\n",
       "      <td>Single Family Residential</td>\n",
       "      <td>2</td>\n",
       "      <td>1</td>\n",
       "      <td>832 Sq Ft</td>\n",
       "      <td>—</td>\n",
       "      <td>2022</td>\n",
       "    </tr>\n",
       "  </tbody>\n",
       "</table>\n",
       "</div>"
      ],
      "text/plain": [
       "                                      Location     Price  \\\n",
       "0      19 Goldenrod Pl, Vernon Twp., NJ, 07418   $79,900   \n",
       "1       45 Aldine Shirley Rd, Elmer, NJ, 08318   $84,900   \n",
       "2     1 Victory Ave #16, Pennsville, NJ, 08070   $94,900   \n",
       "3  1205 Farrell Ave #4, Cherry Hill, NJ, 08002  $109,000   \n",
       "4     1887 N Delsea Dr #8, Vineland, NJ, 08360  $114,900   \n",
       "\n",
       "                   Area_Type Bedroom Bathroom      Square_feet       Lot_Size  \\\n",
       "0  Single Family Residential       2        2          — Sq Ft     0.37 Acres   \n",
       "1                Vacant Land       —        —  1.00 Acre (Lot)         1 Acre   \n",
       "2  Single Family Residential       2        1        896 Sq Ft    18.45 Acres   \n",
       "3  Single Family Residential       2        1        784 Sq Ft  1,950 Sq. Ft.   \n",
       "4  Single Family Residential       2        1        832 Sq Ft              —   \n",
       "\n",
       "  Year_Built  \n",
       "0       2023  \n",
       "1       2022  \n",
       "2       2021  \n",
       "3       2023  \n",
       "4       2022  "
      ]
     },
     "execution_count": 93,
     "metadata": {},
     "output_type": "execute_result"
    }
   ],
   "source": [
    "df1.head()"
   ]
  },
  {
   "cell_type": "code",
   "execution_count": 94,
   "metadata": {},
   "outputs": [
    {
     "name": "stdout",
     "output_type": "stream",
     "text": [
      "<class 'pandas.core.frame.DataFrame'>\n",
      "RangeIndex: 350 entries, 0 to 349\n",
      "Data columns (total 8 columns):\n",
      " #   Column       Non-Null Count  Dtype \n",
      "---  ------       --------------  ----- \n",
      " 0   Location     350 non-null    object\n",
      " 1   Price        350 non-null    object\n",
      " 2   Area_Type    350 non-null    object\n",
      " 3   Bedroom      350 non-null    object\n",
      " 4   Bathroom     350 non-null    object\n",
      " 5   Square_feet  350 non-null    object\n",
      " 6   Lot_Size     312 non-null    object\n",
      " 7   Year_Built   350 non-null    object\n",
      "dtypes: object(8)\n",
      "memory usage: 22.0+ KB\n"
     ]
    }
   ],
   "source": [
    "df1.info()"
   ]
  },
  {
   "cell_type": "code",
   "execution_count": 95,
   "metadata": {},
   "outputs": [
    {
     "data": {
      "text/plain": [
       "25"
      ]
     },
     "execution_count": 95,
     "metadata": {},
     "output_type": "execute_result"
    }
   ],
   "source": [
    "df1.duplicated().sum()"
   ]
  },
  {
   "cell_type": "code",
   "execution_count": 96,
   "metadata": {},
   "outputs": [
    {
     "data": {
      "text/plain": [
       "Location       325\n",
       "Price          219\n",
       "Area_Type       11\n",
       "Bedroom          7\n",
       "Bathroom         9\n",
       "Square_feet    140\n",
       "Lot_Size       124\n",
       "Year_Built       4\n",
       "dtype: int64"
      ]
     },
     "execution_count": 96,
     "metadata": {},
     "output_type": "execute_result"
    }
   ],
   "source": [
    "df1.nunique()"
   ]
  },
  {
   "attachments": {},
   "cell_type": "markdown",
   "metadata": {},
   "source": [
    "Create csv file"
   ]
  },
  {
   "cell_type": "code",
   "execution_count": 97,
   "metadata": {},
   "outputs": [],
   "source": [
    "df1.to_csv('Datasets/Prop_1to9.csv', index_label = False)"
   ]
  },
  {
   "cell_type": "code",
   "execution_count": null,
   "metadata": {},
   "outputs": [],
   "source": [
    "projectlist = pd.read_csv(\"Prop_1to9.csv\")\n",
    "projectlist.head(16)"
   ]
  },
  {
   "attachments": {},
   "cell_type": "markdown",
   "metadata": {},
   "source": [
    "Import all datasets and concatenate"
   ]
  },
  {
   "cell_type": "code",
   "execution_count": null,
   "metadata": {},
   "outputs": [],
   "source": [
    "df1 = pd.read_csv(\"Prop_1to9.csv\")"
   ]
  },
  {
   "cell_type": "code",
   "execution_count": null,
   "metadata": {},
   "outputs": [],
   "source": [
    "# df = pd.concat([df1, df2, df3], ignore_index=False)\n",
    "df = df1"
   ]
  },
  {
   "cell_type": "code",
   "execution_count": null,
   "metadata": {},
   "outputs": [],
   "source": [
    "df"
   ]
  },
  {
   "cell_type": "code",
   "execution_count": null,
   "metadata": {},
   "outputs": [],
   "source": [
    "# df[\"Property_Name\"] = df[\"Property_Name\"].str.replace('Toll Free 1800 41 99099','Unnamed Property')"
   ]
  },
  {
   "cell_type": "code",
   "execution_count": null,
   "metadata": {},
   "outputs": [],
   "source": [
    "df.isna().sum()"
   ]
  },
  {
   "cell_type": "code",
   "execution_count": null,
   "metadata": {},
   "outputs": [],
   "source": [
    "df.dropna(inplace=True)\n",
    "df.reset_index(drop=True, inplace=True)"
   ]
  },
  {
   "cell_type": "code",
   "execution_count": null,
   "metadata": {},
   "outputs": [],
   "source": [
    "df.isna().sum()"
   ]
  },
  {
   "cell_type": "code",
   "execution_count": null,
   "metadata": {},
   "outputs": [],
   "source": [
    "df.duplicated().sum()"
   ]
  },
  {
   "cell_type": "code",
   "execution_count": null,
   "metadata": {},
   "outputs": [],
   "source": [
    "df = df.drop_duplicates(ignore_index=True)"
   ]
  },
  {
   "cell_type": "code",
   "execution_count": null,
   "metadata": {},
   "outputs": [],
   "source": [
    "df.to_csv('Raw_Property.csv', index=False)"
   ]
  },
  {
   "cell_type": "code",
   "execution_count": null,
   "metadata": {},
   "outputs": [],
   "source": [
    "df = pd.read_csv('Raw_Property.csv')"
   ]
  },
  {
   "cell_type": "code",
   "execution_count": null,
   "metadata": {},
   "outputs": [],
   "source": [
    "print('Shape of Data :', df.shape)\n",
    "df"
   ]
  }
 ],
 "metadata": {
  "kernelspec": {
   "display_name": "Python 3",
   "language": "python",
   "name": "python3"
  },
  "language_info": {
   "codemirror_mode": {
    "name": "ipython",
    "version": 3
   },
   "file_extension": ".py",
   "mimetype": "text/x-python",
   "name": "python",
   "nbconvert_exporter": "python",
   "pygments_lexer": "ipython3",
   "version": "3.9.1"
  },
  "orig_nbformat": 4,
  "vscode": {
   "interpreter": {
    "hash": "8e88e00bc84be2fb3b6390223d7e814b1d411a1cdc7cf7c376b36be6730566a5"
   }
  }
 },
 "nbformat": 4,
 "nbformat_minor": 2
}
