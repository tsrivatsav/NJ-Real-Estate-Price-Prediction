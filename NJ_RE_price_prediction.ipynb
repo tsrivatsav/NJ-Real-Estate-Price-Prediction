{
 "cells": [
  {
   "attachments": {},
   "cell_type": "markdown",
   "id": "15b1b900",
   "metadata": {},
   "source": [
    "## Real Estate (99acres.com) Model Building"
   ]
  },
  {
   "attachments": {},
   "cell_type": "markdown",
   "id": "a77b0036",
   "metadata": {},
   "source": [
    "## 1. Import sklearn Libraries"
   ]
  },
  {
   "cell_type": "code",
   "execution_count": null,
   "id": "e385cfdc",
   "metadata": {},
   "outputs": [],
   "source": [
    "import numpy as np\n",
    "import pandas as pd\n",
    "import seaborn as sns\n",
    "import matplotlib.pyplot as plt\n",
    "import matplotlib.pylab as pylab\n",
    "from sklearn.preprocessing import LabelEncoder\n",
    "from sklearn.model_selection import train_test_split\n",
    "\n",
    "import warnings\n",
    "warnings.filterwarnings('ignore')"
   ]
  },
  {
   "attachments": {},
   "cell_type": "markdown",
   "id": "0c922116",
   "metadata": {},
   "source": [
    "## 2. Import Dataset"
   ]
  },
  {
   "cell_type": "code",
   "execution_count": null,
   "id": "5bd6e3d3",
   "metadata": {},
   "outputs": [],
   "source": [
    "NJ_prop = pd.read_csv('Final_Project.csv')\n",
    "NJ_prop"
   ]
  },
  {
   "attachments": {},
   "cell_type": "markdown",
   "id": "2000ec59",
   "metadata": {},
   "source": [
    "## 3. Data Understanding"
   ]
  },
  {
   "cell_type": "code",
   "execution_count": null,
   "id": "e3ff6ae7",
   "metadata": {},
   "outputs": [],
   "source": [
    "NJ_prop.shape"
   ]
  },
  {
   "cell_type": "code",
   "execution_count": null,
   "id": "72f33c7d",
   "metadata": {},
   "outputs": [],
   "source": [
    "NJ_prop.info()"
   ]
  },
  {
   "cell_type": "code",
   "execution_count": null,
   "id": "9fbe273e",
   "metadata": {},
   "outputs": [],
   "source": [
    "NJ_prop.isna().sum()"
   ]
  },
  {
   "cell_type": "code",
   "execution_count": null,
   "id": "7c8116da",
   "metadata": {},
   "outputs": [],
   "source": [
    "NJ_prop.describe().round()"
   ]
  },
  {
   "attachments": {},
   "cell_type": "markdown",
   "id": "c50c4747",
   "metadata": {},
   "source": [
    "## 4. Feature Engineering"
   ]
  },
  {
   "attachments": {},
   "cell_type": "markdown",
   "id": "fcaec645",
   "metadata": {},
   "source": [
    "### 4.1 Drop Unwanted Columns"
   ]
  },
  {
   "cell_type": "code",
   "execution_count": null,
   "id": "dd2e859c",
   "metadata": {
    "scrolled": false
   },
   "outputs": [],
   "source": [
    "NJ_prop.head()"
   ]
  },
  {
   "cell_type": "code",
   "execution_count": null,
   "id": "8b61ee95",
   "metadata": {},
   "outputs": [],
   "source": [
    "NJ_prop.drop(columns=['Property_Name', 'Location','Availability','Bathroom'], inplace =  True)\n",
    "print('Shape of data :', NJ_prop.shape)"
   ]
  },
  {
   "attachments": {},
   "cell_type": "markdown",
   "id": "3ccc3582",
   "metadata": {},
   "source": [
    "### 4.2 Label Encoding for Categorical Columns"
   ]
  },
  {
   "cell_type": "code",
   "execution_count": null,
   "id": "48b968cc",
   "metadata": {},
   "outputs": [],
   "source": [
    "le = LabelEncoder()"
   ]
  },
  {
   "cell_type": "code",
   "execution_count": null,
   "id": "92c3169a",
   "metadata": {},
   "outputs": [],
   "source": [
    "for column in NJ_prop.describe(include='object').columns:\n",
    "    NJ_prop[column] = le.fit_transform(NJ_prop[column])"
   ]
  },
  {
   "cell_type": "code",
   "execution_count": null,
   "id": "ac7950c8",
   "metadata": {},
   "outputs": [],
   "source": [
    "NJ_prop.describe().round(2).T"
   ]
  },
  {
   "cell_type": "code",
   "execution_count": null,
   "id": "d4239485",
   "metadata": {},
   "outputs": [],
   "source": [
    "NJ_prop"
   ]
  },
  {
   "cell_type": "code",
   "execution_count": null,
   "id": "98e0bfba",
   "metadata": {},
   "outputs": [],
   "source": [
    "NJ_prop.info()"
   ]
  },
  {
   "attachments": {},
   "cell_type": "markdown",
   "id": "6cdc63ac",
   "metadata": {},
   "source": [
    "### 4.3 Looking for Minimum & Maximum"
   ]
  },
  {
   "cell_type": "code",
   "execution_count": null,
   "id": "0d5ecd17",
   "metadata": {},
   "outputs": [],
   "source": [
    "for i in NJ_prop.columns:  \n",
    "    print(i,'Min value :', NJ_prop[i].min(),'Max value :', NJ_prop[i].max())"
   ]
  },
  {
   "attachments": {},
   "cell_type": "markdown",
   "id": "7124fb62",
   "metadata": {},
   "source": [
    "### 4.4 Correlation Heatmap"
   ]
  },
  {
   "cell_type": "code",
   "execution_count": null,
   "id": "c8ddb66b",
   "metadata": {},
   "outputs": [],
   "source": [
    "fig = plt.figure( figsize =(9,8))\n",
    "rcParams = {'xtick.labelsize':'14','ytick.labelsize':'14','axes.labelsize':'16'}\n",
    "sns.heatmap(NJ_prop.corr(),annot = True, linewidths=.5, cbar_kws={\"shrink\": .5},fmt='.2f', cmap='coolwarm')\n",
    "fig.suptitle('Heatmap New Jersey Property Data',fontsize=18, fontweight=\"bold\")\n",
    "pylab.rcParams.update(rcParams)\n",
    "fig.tight_layout()\n",
    "plt.show()\n",
    "\n",
    "fig.savefig('Heatmap_Encoding', dpi = 250)"
   ]
  },
  {
   "attachments": {},
   "cell_type": "markdown",
   "id": "4ef19cf0",
   "metadata": {},
   "source": [
    "## 5. Model Building"
   ]
  },
  {
   "cell_type": "code",
   "execution_count": null,
   "id": "e1063848",
   "metadata": {},
   "outputs": [],
   "source": [
    "NJ_prop.head()"
   ]
  },
  {
   "attachments": {},
   "cell_type": "markdown",
   "id": "f5ecf5cf",
   "metadata": {},
   "source": [
    "### 5.1 Train Test Split"
   ]
  },
  {
   "cell_type": "code",
   "execution_count": null,
   "id": "891a501c",
   "metadata": {
    "scrolled": false
   },
   "outputs": [],
   "source": [
    "X =  NJ_prop.drop('Price', axis = 1)\n",
    "y =  NJ_prop['Price']"
   ]
  },
  {
   "cell_type": "code",
   "execution_count": null,
   "id": "2197ea54",
   "metadata": {},
   "outputs": [],
   "source": [
    "X_train, X_test, y_train, y_test = train_test_split(X, y, test_size= 0.20, random_state = 12)"
   ]
  },
  {
   "cell_type": "code",
   "execution_count": null,
   "id": "4f0e4534",
   "metadata": {},
   "outputs": [],
   "source": [
    "print(X_train.shape, X_test.shape)"
   ]
  },
  {
   "attachments": {},
   "cell_type": "markdown",
   "id": "9feafe60",
   "metadata": {},
   "source": [
    "### 5.2 Linear Regression"
   ]
  },
  {
   "cell_type": "code",
   "execution_count": null,
   "id": "bcf26aef",
   "metadata": {},
   "outputs": [],
   "source": [
    "from sklearn.linear_model import LinearRegression\n",
    "\n",
    "linear = LinearRegression()\n",
    "linear.fit(X_train, y_train)\n",
    "\n",
    "print(\"Training Accuracy = \", linear.score(X_train, y_train))\n",
    "print(\"Test Accuracy     = \", linear.score(X_test, y_test))"
   ]
  },
  {
   "attachments": {},
   "cell_type": "markdown",
   "id": "c1f5229e",
   "metadata": {},
   "source": [
    "### 5.3 Decision Tree Regressor"
   ]
  },
  {
   "cell_type": "code",
   "execution_count": null,
   "id": "b74822b0",
   "metadata": {},
   "outputs": [],
   "source": [
    "from sklearn.tree import DecisionTreeRegressor\n",
    "\n",
    "dt = DecisionTreeRegressor(min_samples_split=2)\n",
    "dt.fit(X_train, y_train)\n",
    "\n",
    "print(\"Training Accuracy = \", dt.score(X_train, y_train))\n",
    "print(\"Test Accuracy     = \", dt.score(X_test, y_test))"
   ]
  },
  {
   "attachments": {},
   "cell_type": "markdown",
   "id": "efb5f9f4",
   "metadata": {},
   "source": [
    "### 5.4 Random Forest Regressor"
   ]
  },
  {
   "cell_type": "code",
   "execution_count": null,
   "id": "4e9b0cf3",
   "metadata": {
    "scrolled": true
   },
   "outputs": [],
   "source": [
    "from sklearn.ensemble import RandomForestRegressor\n",
    "\n",
    "rf = RandomForestRegressor(n_estimators = 1000, max_depth=5, random_state = 12)\n",
    "rf.fit(X_train, y_train);\n",
    "\n",
    "print(\"Training Accuracy = \", rf.score(X_train, y_train))\n",
    "print(\"Test Accuracy     = \", rf.score(X_test, y_test))"
   ]
  },
  {
   "attachments": {},
   "cell_type": "markdown",
   "id": "9940e59b",
   "metadata": {},
   "source": [
    "### 5.5 Polynomial Features"
   ]
  },
  {
   "cell_type": "code",
   "execution_count": null,
   "id": "1bb47bd0",
   "metadata": {},
   "outputs": [],
   "source": [
    "from sklearn.pipeline import Pipeline\n",
    "from sklearn.preprocessing import PolynomialFeatures\n",
    "\n",
    "poly = PolynomialFeatures(degree=2)\n",
    "poly.fit_transform(X)\n",
    "\n",
    "# Define the pipeline and train model\n",
    "poly_model = Pipeline([('poly', PolynomialFeatures(degree=2)),\n",
    "                       ('rf', RandomForestRegressor(n_estimators = 1000, max_depth=5, random_state = 12))])\n",
    "poly_model.fit(X_train, y_train)\n",
    "\n",
    "# Calculate the Score\n",
    "print(\"Training Accuracy = \", poly_model.score(X_train, y_train))\n",
    "print(\"Test Accuracy     = \", poly_model.score(X_test, y_test))"
   ]
  },
  {
   "cell_type": "code",
   "execution_count": null,
   "id": "29d36ee5",
   "metadata": {},
   "outputs": [],
   "source": [
    "from sklearn.pipeline import Pipeline\n",
    "from sklearn.preprocessing import PolynomialFeatures\n",
    "\n",
    "poly = PolynomialFeatures(degree=2)\n",
    "poly.fit_transform(X)\n",
    "\n",
    "# Define the pipeline and train model\n",
    "poly_model = Pipeline([('poly', PolynomialFeatures(degree=2)), ('linear', LinearRegression(fit_intercept=False))])\n",
    "poly_model.fit(X_train, y_train)\n",
    "\n",
    "# Calculate the Score\n",
    "print(\"Training Accuracy = \", poly_model.score(X_train, y_train))\n",
    "print(\"Test Accuracy     = \", poly_model.score(X_test, y_test))"
   ]
  },
  {
   "attachments": {},
   "cell_type": "markdown",
   "id": "2fa261c7",
   "metadata": {},
   "source": [
    "## Obeservaion :\n",
    "### 1. We select the final model - Polynomial Feature.\n",
    "### 2. We got 98.73 % Model Accuracy."
   ]
  },
  {
   "attachments": {},
   "cell_type": "markdown",
   "id": "4c0d4a4b",
   "metadata": {},
   "source": [
    "## 6. Final Model Evaluation"
   ]
  },
  {
   "cell_type": "code",
   "execution_count": null,
   "id": "2d67f589",
   "metadata": {},
   "outputs": [],
   "source": [
    "def evaluate(model, test_features, test_labels):\n",
    "    predictions = model.predict(test_features)\n",
    "    errors = abs(predictions - test_labels)\n",
    "    accuracy = model.score(test_features, test_labels)\n",
    "\n",
    "    print('Average Error  = {:0.4f} degrees'.format(np.mean(errors)))\n",
    "    print('Model Accuracy = {:0.4f} %'.format(accuracy))"
   ]
  },
  {
   "cell_type": "code",
   "execution_count": null,
   "id": "a955ad32",
   "metadata": {},
   "outputs": [],
   "source": [
    "evaluate(poly_model, X_train, y_train)"
   ]
  },
  {
   "cell_type": "code",
   "execution_count": null,
   "id": "37494896",
   "metadata": {},
   "outputs": [],
   "source": [
    "evaluate(poly_model, X_test, y_test)"
   ]
  },
  {
   "attachments": {},
   "cell_type": "markdown",
   "id": "106e432a",
   "metadata": {},
   "source": [
    "### 6.1 Visualizing Results"
   ]
  },
  {
   "cell_type": "code",
   "execution_count": null,
   "id": "09bb93ec",
   "metadata": {},
   "outputs": [],
   "source": [
    "pred = poly_model.predict(X_test)"
   ]
  },
  {
   "cell_type": "code",
   "execution_count": null,
   "id": "6db9592b",
   "metadata": {},
   "outputs": [],
   "source": [
    "fig = plt.figure(figsize=(8,7))\n",
    "\n",
    "sns.scatterplot(y_test, pred)\n",
    "fig.suptitle('Prediction using Polynomial', fontsize= 18 , fontweight='bold')\n",
    "plt.xlabel(\"Actual\")\n",
    "plt.ylabel(\"Prediction\")\n",
    "pylab.rcParams.update(rcParams)\n",
    "fig.tight_layout()\n",
    "fig.subplots_adjust(top=0.92)\n",
    "plt.show()\n",
    "\n",
    "#fig.savefig('Prediction_Polynomial', dpi = 500)"
   ]
  },
  {
   "attachments": {},
   "cell_type": "markdown",
   "id": "37ff0f34",
   "metadata": {},
   "source": [
    "## 7. Model Deployment"
   ]
  },
  {
   "cell_type": "code",
   "execution_count": null,
   "id": "187f0fc4",
   "metadata": {},
   "outputs": [],
   "source": [
    "from pickle import dump"
   ]
  },
  {
   "cell_type": "code",
   "execution_count": null,
   "id": "ffd19f0c",
   "metadata": {},
   "outputs": [],
   "source": [
    "dump(poly_model,open('regression_model.pkl','wb'))"
   ]
  },
  {
   "attachments": {},
   "cell_type": "markdown",
   "id": "ac91d2e6",
   "metadata": {},
   "source": [
    "# The End !!!"
   ]
  }
 ],
 "metadata": {
  "kernelspec": {
   "display_name": "Python 3 (ipykernel)",
   "language": "python",
   "name": "python3"
  },
  "language_info": {
   "codemirror_mode": {
    "name": "ipython",
    "version": 3
   },
   "file_extension": ".py",
   "mimetype": "text/x-python",
   "name": "python",
   "nbconvert_exporter": "python",
   "pygments_lexer": "ipython3",
   "version": "3.9.13"
  }
 },
 "nbformat": 4,
 "nbformat_minor": 5
}
