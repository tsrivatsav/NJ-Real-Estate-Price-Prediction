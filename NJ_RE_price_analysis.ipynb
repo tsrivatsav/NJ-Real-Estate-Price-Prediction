{
 "cells": [
  {
   "attachments": {},
   "cell_type": "markdown",
   "metadata": {},
   "source": [
    "Import Libraries"
   ]
  },
  {
   "cell_type": "code",
   "execution_count": null,
   "metadata": {},
   "outputs": [],
   "source": [
    "import folium\n",
    "import numpy as np\n",
    "import pandas as pd\n",
    "import seaborn as sns\n",
    "from collections import Counter\n",
    "import matplotlib.pyplot as plt\n",
    "import matplotlib.pylab as pylab\n",
    "from geopy.geocoders import ArcGIS\n",
    "\n",
    "import warnings\n",
    "warnings.filterwarnings('ignore')"
   ]
  },
  {
   "attachments": {},
   "cell_type": "markdown",
   "metadata": {},
   "source": [
    "Load Dataset"
   ]
  },
  {
   "cell_type": "code",
   "execution_count": null,
   "metadata": {},
   "outputs": [],
   "source": [
    "NJ_prop = pd.read_csv('NJ_Property.csv')"
   ]
  },
  {
   "cell_type": "code",
   "execution_count": null,
   "metadata": {},
   "outputs": [],
   "source": [
    "NJ_prop.head()"
   ]
  },
  {
   "cell_type": "code",
   "execution_count": null,
   "metadata": {},
   "outputs": [],
   "source": [
    "NJ_prop.shape"
   ]
  },
  {
   "cell_type": "code",
   "execution_count": null,
   "metadata": {},
   "outputs": [],
   "source": [
    "NJ_prop.info()"
   ]
  },
  {
   "cell_type": "code",
   "execution_count": null,
   "metadata": {},
   "outputs": [],
   "source": [
    "NJ_prop.Availability.value_counts()"
   ]
  },
  {
   "cell_type": "code",
   "execution_count": null,
   "metadata": {},
   "outputs": [],
   "source": [
    "NJ_prop.Region.value_counts().head(20)"
   ]
  },
  {
   "cell_type": "code",
   "execution_count": null,
   "metadata": {},
   "outputs": [],
   "source": [
    "NJ_prop.Region.nunique()"
   ]
  },
  {
   "cell_type": "code",
   "execution_count": null,
   "metadata": {},
   "outputs": [],
   "source": [
    "NJ_prop.describe().round(2)"
   ]
  },
  {
   "cell_type": "code",
   "execution_count": null,
   "metadata": {},
   "outputs": [],
   "source": [
    "Q1 = np.quantile(NJ_prop.Area_SqFt,0.02)\n",
    "Q3 = np.quantile(NJ_prop.Area_SqFt,0.98)\n",
    "med = np.median(NJ_prop.Area_SqFt)\n",
    "IQR = Q3 - Q1\n",
    "upper_bound = Q3+(1.5*IQR)\n",
    "lower_bound = Q1-(1.5*IQR)\n",
    "outliers1 = NJ_prop.Area_SqFt[(NJ_prop.Area_SqFt <= lower_bound) | (NJ_prop.Area_SqFt >= upper_bound)]\n",
    "\n",
    "NJ_prop = NJ_prop.drop(outliers1.index).reset_index(drop=True)"
   ]
  },
  {
   "cell_type": "code",
   "execution_count": null,
   "metadata": {},
   "outputs": [],
   "source": [
    "NJ_prop.describe().round(2)"
   ]
  },
  {
   "cell_type": "code",
   "execution_count": null,
   "metadata": {},
   "outputs": [],
   "source": [
    "NJ_prop.duplicated().sum()"
   ]
  },
  {
   "cell_type": "code",
   "execution_count": null,
   "metadata": {},
   "outputs": [],
   "source": [
    "NJ_prop = NJ_prop.drop_duplicates(ignore_index=True)"
   ]
  },
  {
   "cell_type": "code",
   "execution_count": null,
   "metadata": {},
   "outputs": [],
   "source": [
    "NJ_prop.isna().sum()"
   ]
  },
  {
   "cell_type": "code",
   "execution_count": null,
   "metadata": {},
   "outputs": [],
   "source": [
    "NJ_prop.shape"
   ]
  },
  {
   "cell_type": "code",
   "execution_count": null,
   "metadata": {},
   "outputs": [],
   "source": [
    "NJ_prop.to_csv('Final_Project.csv', index_label=False)\n",
    "NJ_proj = pd.read_csv('Final_Project.csv')"
   ]
  },
  {
   "attachments": {},
   "cell_type": "markdown",
   "metadata": {},
   "source": [
    "Data Visualization"
   ]
  },
  {
   "attachments": {},
   "cell_type": "markdown",
   "metadata": {},
   "source": [
    "Set rcParams"
   ]
  },
  {
   "cell_type": "code",
   "execution_count": null,
   "metadata": {},
   "outputs": [],
   "source": [
    "rcParams = {'xtick.labelsize':'14','ytick.labelsize':'14','axes.labelsize':'16'}"
   ]
  },
  {
   "attachments": {},
   "cell_type": "markdown",
   "metadata": {},
   "source": [
    "Find Outliers"
   ]
  },
  {
   "cell_type": "code",
   "execution_count": null,
   "metadata": {},
   "outputs": [],
   "source": [
    "fig, ax = plt.subplots(6,2, figsize = (12,14))\n",
    "\n",
    "fig.suptitle('Histplot & Box Plot : With Outliers', size = 18, fontweight=\"bold\")\n",
    "sns.kdeplot(ax= ax[0,0], data = NJ_prop, x = 'Area_SqFt')\n",
    "sns.boxplot(ax= ax[0,1], data = NJ_prop, x = 'Area_SqFt')\n",
    "sns.kdeplot(ax= ax[1,0], data = NJ_prop, x = 'Rate_SqFt')\n",
    "sns.boxplot(ax= ax[1,1], data = NJ_prop, x = 'Rate_SqFt')\n",
    "sns.kdeplot(ax= ax[2,0], data = NJ_prop, x = 'Floor_No')\n",
    "sns.boxplot(ax= ax[2,1], data = NJ_prop, x = 'Floor_No')\n",
    "sns.kdeplot(ax= ax[3,0], data = NJ_prop, x = 'Bedroom')\n",
    "sns.boxplot(ax= ax[3,1], data = NJ_prop, x = 'Bedroom')\n",
    "sns.kdeplot(ax= ax[4,0], data = NJ_prop, x = 'Bathroom')\n",
    "sns.boxplot(ax= ax[4,1], data = NJ_prop, x = 'Bathroom')\n",
    "sns.kdeplot(ax= ax[5,0], data = NJ_prop, x = 'Price')\n",
    "sns.boxplot(ax= ax[5,1], data = NJ_prop, x = 'Price')\n",
    "\n",
    "pylab.rcParams.update(rcParams)\n",
    "fig.tight_layout()\n",
    "fig.subplots_adjust(top=0.93)\n",
    "plt.show()"
   ]
  },
  {
   "attachments": {},
   "cell_type": "markdown",
   "metadata": {},
   "source": [
    "Heatmap"
   ]
  },
  {
   "cell_type": "code",
   "execution_count": null,
   "metadata": {},
   "outputs": [],
   "source": [
    "fig = plt.figure(figsize=(10,8))\n",
    "\n",
    "sns.heatmap(NJ_prop.corr(), annot = True, cmap='YlGnBu', linewidth=.5)\n",
    "fig.suptitle('Heatmap NJ Property Data',fontsize=18, fontweight=\"bold\")\n",
    "pylab.rcParams.update(rcParams)\n",
    "fig.tight_layout()\n",
    "plt.show()"
   ]
  },
  {
   "attachments": {},
   "cell_type": "markdown",
   "metadata": {},
   "source": [
    "Exploratory Data Analysis"
   ]
  },
  {
   "attachments": {},
   "cell_type": "markdown",
   "metadata": {},
   "source": [
    "Checking for binary, ordinal, continuous data and target columns"
   ]
  },
  {
   "cell_type": "code",
   "execution_count": null,
   "metadata": {},
   "outputs": [],
   "source": [
    "num_columns = NJ_prop.describe().columns\n",
    "categorical_cols = NJ_prop.describe(include= 'object').columns"
   ]
  },
  {
   "cell_type": "code",
   "execution_count": null,
   "metadata": {},
   "outputs": [],
   "source": [
    "NJ_prop.nunique()"
   ]
  },
  {
   "cell_type": "code",
   "execution_count": null,
   "metadata": {},
   "outputs": [],
   "source": [
    "binary_variables = [i  for i in NJ_prop.columns  if (len(NJ_prop[i].unique()) == 2)]"
   ]
  },
  {
   "cell_type": "code",
   "execution_count": null,
   "metadata": {},
   "outputs": [],
   "source": [
    "binary_variables"
   ]
  },
  {
   "cell_type": "code",
   "execution_count": null,
   "metadata": {},
   "outputs": [],
   "source": [
    "ordinal_variables=[i for i in NJ_prop.columns if ((len(NJ_prop[i].unique()) > 2 ) and (len(NJ_prop[i].unique()) <= 53))]\n"
   ]
  },
  {
   "cell_type": "code",
   "execution_count": null,
   "metadata": {},
   "outputs": [],
   "source": [
    "ordinal_variables"
   ]
  },
  {
   "cell_type": "code",
   "execution_count": null,
   "metadata": {},
   "outputs": [],
   "source": [
    "continous_variable = [i for i in NJ_prop.columns if ((len(NJ_prop[i].unique()) > 53))]\n",
    "continous_variable = continous_variable[3:-1] # Remove Price and Location from data"
   ]
  },
  {
   "cell_type": "code",
   "execution_count": null,
   "metadata": {},
   "outputs": [],
   "source": [
    "continous_variable"
   ]
  },
  {
   "cell_type": "code",
   "execution_count": null,
   "metadata": {},
   "outputs": [],
   "source": [
    "target_variable = 'Price'"
   ]
  },
  {
   "cell_type": "code",
   "execution_count": null,
   "metadata": {},
   "outputs": [],
   "source": [
    "target_variable"
   ]
  },
  {
   "attachments": {},
   "cell_type": "markdown",
   "metadata": {},
   "source": [
    "Binary Variable"
   ]
  },
  {
   "cell_type": "code",
   "execution_count": null,
   "metadata": {},
   "outputs": [],
   "source": [
    "print(binary_variables)\n",
    "print('Element in binary category :', len(binary_variables))"
   ]
  },
  {
   "attachments": {},
   "cell_type": "markdown",
   "metadata": {},
   "source": [
    "Availability Count"
   ]
  },
  {
   "cell_type": "code",
   "execution_count": null,
   "metadata": {},
   "outputs": [],
   "source": [
    "fig = plt.figure(figsize=(6,8))\n",
    "\n",
    "plot = sns.barplot(data =NJ_prop , x = NJ_prop.Availability.value_counts().index,\n",
    "            y = NJ_prop.Availability.value_counts().values)\n",
    "for bar in plot.patches:\n",
    "    plot.annotate(format(bar.get_height(), '.0f'),(bar.get_x() + bar.get_width()/2, bar.get_height()),\n",
    "                  ha='center', va='center', size=15, xytext=(0,8), textcoords='offset points')\n",
    "\n",
    "fig.suptitle('Availability : Counts',fontsize=18, fontweight=\"bold\")\n",
    "plt.xlabel('Availability',)\n",
    "plt.ylabel('Count')\n",
    "\n",
    "pylab.rcParams.update(rcParams)\n",
    "fig.tight_layout()\n",
    "plt.show()\n",
    "\n",
    "#fig.savefig('Availability_Bar', dpi = 500)"
   ]
  },
  {
   "attachments": {},
   "cell_type": "markdown",
   "metadata": {},
   "source": [
    "Ordinal Variables"
   ]
  },
  {
   "cell_type": "code",
   "execution_count": null,
   "metadata": {},
   "outputs": [],
   "source": [
    "print(ordinal_variables)\n",
    "print('Number of ordinal features is :', len(ordinal_variables))"
   ]
  },
  {
   "attachments": {},
   "cell_type": "markdown",
   "metadata": {},
   "source": [
    "Price with respect to Property Age"
   ]
  },
  {
   "cell_type": "code",
   "execution_count": null,
   "metadata": {},
   "outputs": [],
   "source": [
    "fig = plt.figure(figsize=(10,6))\n",
    "\n",
    "sns.barplot(data = NJ_prop , x = NJ_prop.groupby('Property_Age').median().Price , y = NJ_prop.groupby('Property_Age').median().index)\n",
    "fig.suptitle('Median Price with respect to Property Age', fontsize= 18, fontweight=\"bold\")\n",
    "# fig.text(0.9, 0.15, 'Shanu',fontsize = 13, color ='blue')\n",
    "pylab.rcParams.update(rcParams)\n",
    "fig.tight_layout()\n",
    "plt.show()\n",
    "\n",
    "#fig.savefig('Property_Age_Price_Bar', dpi = 500)"
   ]
  },
  {
   "cell_type": "code",
   "execution_count": null,
   "metadata": {},
   "outputs": [],
   "source": [
    "fig = plt.figure(figsize = (8,8))\n",
    "plt.pie(NJ_prop['Property_Age'].value_counts(),\n",
    "       labels=['1 to 5 Year','0 to 1 Year','5 to 10 Year','10+ Year','Under Construction'],\n",
    "       autopct= '%.2f%%', textprops = {'size':'large'},explode = [0.005,0.005,0.005,0.005,0.005])\n",
    "plt.legend(loc= 'upper left')\n",
    "plt.title(\"Property Age Distribution\", fontsize = 18, fontweight = 'bold')\n",
    "# fig.text(0.9, 0.15, 'Shanu', fontsize = 13, color ='red')\n",
    "\n",
    "pylab.rcParams.update(rcParams)\n",
    "fig.tight_layout()\n",
    "fig.subplots_adjust(top=0.93)\n",
    "plt.show()\n",
    "\n",
    "#fig.savefig('Price_Age_Distribution', dpi = 500)"
   ]
  },
  {
   "cell_type": "code",
   "execution_count": null,
   "metadata": {},
   "outputs": [],
   "source": [
    "fig = plt.figure(figsize=(12,6))\n",
    "fig.suptitle('All Prices with respect to Property Age', size = 18, fontweight=\"bold\")\n",
    "# fig.text(0.9, 0.15, 'Shanu Halli',fontsize = 13, color ='blue')\n",
    "\n",
    "sns.scatterplot(data = NJ_prop , x = NJ_prop['Property_Age'], y = NJ_prop['Price'])\n",
    "plt.xlabel(\"Property Age\", size=16)\n",
    "plt.ylabel(\"Price (Dollars)\", size=16)\n",
    "plt.xticks(rotation=90)\n",
    "\n",
    "pylab.rcParams.update(rcParams)\n",
    "fig.tight_layout()\n",
    "plt.show()\n",
    "\n",
    "#fig.savefig('Property_Age_Price_Scatter', dpi = 500)"
   ]
  },
  {
   "attachments": {},
   "cell_type": "markdown",
   "metadata": {},
   "source": [
    "Price with respect to Bed and Bath"
   ]
  },
  {
   "cell_type": "code",
   "execution_count": null,
   "metadata": {},
   "outputs": [],
   "source": [
    "fig, ax = plt.subplots(2,1, figsize = (12,12))\n",
    "\n",
    "sns.barplot(ax= ax[0], data =NJ_prop , x = NJ_prop.groupby('Bedroom').median().index, y = NJ_prop.groupby('Bedroom').median().Price)\n",
    "sns.barplot(ax= ax[1], data = NJ_prop , x = NJ_prop.groupby('Bathroom').median().index, y = NJ_prop.groupby('Bathroom').median().Price)\n",
    "fig.suptitle('Median Price with respect to Bed & Bath', size = 18, fontweight=\"bold\")\n",
    "# fig.text(0.9, 0.15, 'Shanu Halli', fontsize = 13, color ='black')\n",
    "\n",
    "pylab.rcParams.update(rcParams)\n",
    "fig.tight_layout()\n",
    "fig.subplots_adjust(top=0.93)\n",
    "plt.show()\n",
    "\n",
    "#fig.savefig('BednBath_Price_Bar', dpi = 500)"
   ]
  },
  {
   "cell_type": "code",
   "execution_count": null,
   "metadata": {},
   "outputs": [],
   "source": [
    "fig, ax = plt.subplots(2,1, figsize = (12,10))\n",
    "\n",
    "sns.scatterplot(ax= ax[0], data = NJ_prop , x = NJ_prop['Bedroom'], y = NJ_prop['Price'])\n",
    "sns.scatterplot(ax= ax[1], data = NJ_prop , x = NJ_prop['Bathroom'], y = NJ_prop['Price'])\n",
    "fig.suptitle('All Prices with respect to Bed & Bath', size = 18, fontweight=\"bold\")\n",
    "# fig.text(0.9, 0.15, 'Shanu Halli', fontsize = 13, color ='blue')\n",
    "\n",
    "pylab.rcParams.update(rcParams)\n",
    "fig.tight_layout()\n",
    "fig.subplots_adjust(top=0.93)\n",
    "plt.show()\n",
    "\n",
    "#fig.savefig('Bed_Bath_Price_Scatter', dpi = 500)"
   ]
  },
  {
   "attachments": {},
   "cell_type": "markdown",
   "metadata": {},
   "source": [
    "Area Type Distribution"
   ]
  },
  {
   "cell_type": "code",
   "execution_count": null,
   "metadata": {},
   "outputs": [],
   "source": [
    "fig = plt.figure(figsize = (8,8))\n",
    "plt.pie(NJ_prop['Area_Type'].value_counts(),\n",
    "       labels=['Super Built Up Area','Carpet Area','Built Up Area','Plot Area'],\n",
    "       autopct= '%.2f%%', textprops = {'size':'large'},explode = [0.005,0.005,0.005,0.005])\n",
    "plt.legend(loc= 'upper left')\n",
    "plt.title(\"Type of Area\", fontsize = 18, fontweight = 'bold')\n",
    "# fig.text(0.9, 0.15, 'Shanu', fontsize = 13, color ='red')\n",
    "\n",
    "pylab.rcParams.update(rcParams)\n",
    "fig.tight_layout()\n",
    "fig.subplots_adjust(top=0.93)\n",
    "plt.show()\n",
    "\n",
    "#fig.savefig('Area_Type_Distribution', dpi = 500)"
   ]
  },
  {
   "cell_type": "code",
   "execution_count": null,
   "metadata": {},
   "outputs": [],
   "source": [
    "fig = plt.figure(figsize=(10,4))\n",
    "\n",
    "sns.barplot(data =NJ_prop , x =NJ_prop.groupby('Area_Type').median().Price, y =NJ_prop.groupby('Area_Type').median().index)\n",
    "fig.suptitle('Median Price with respect to Type of Area', fontsize= 18, fontweight=\"bold\")\n",
    "# fig.text(0.9, 0.15, 'Shanu Halli', fontsize = 13, color ='red')\n",
    "pylab.rcParams.update(rcParams)\n",
    "fig.tight_layout()\n",
    "plt.show()\n",
    "\n",
    "#fig.savefig('Area_Type_Count_Bar', dpi = 500)"
   ]
  },
  {
   "attachments": {},
   "cell_type": "markdown",
   "metadata": {},
   "source": [
    "Price with respect to Floor Numbers"
   ]
  },
  {
   "cell_type": "code",
   "execution_count": null,
   "metadata": {},
   "outputs": [],
   "source": [
    "fig = plt.figure(figsize=(12,6))\n",
    "params = {'xtick.labelsize':'8','ytick.labelsize':'14','axes.labelsize':'16'}\n",
    "\n",
    "sns.barplot(data= NJ_prop, x= NJ_prop.groupby('Floor_No').median().index, y= NJ_prop.groupby('Floor_No').median().Price, palette= 'muted')\n",
    "fig.suptitle('Median Price with respect to Floor Numbers', fontsize= 18, fontweight=\"bold\")\n",
    "# fig.text(0.9, 0.15, 'Shanu Halli', fontsize = 13, color ='blue')\n",
    "pylab.rcParams.update(params)\n",
    "fig.tight_layout()\n",
    "plt.show()\n",
    "\n",
    "#fig.savefig('Property_Floor_Numbers_Bar', dpi = 500)"
   ]
  },
  {
   "cell_type": "code",
   "execution_count": null,
   "metadata": {},
   "outputs": [],
   "source": [
    "fig = plt.figure(figsize=(12,6))\n",
    "\n",
    "group_full = NJ_prop.groupby('Floor_No')['Price'].mean()\n",
    "group = group_full.reset_index()\n",
    "group = group[group['Floor_No'] > 0]\n",
    "group = group[group['Floor_No'] < 60]\n",
    "\n",
    "x = group['Floor_No']\n",
    "y = group['Price']\n",
    "fig.suptitle('Mean Price with respect to Floor No', fontsize= 18 , fontweight='bold')\n",
    "# fig.text(0.9, 0.15, 'Shanu Halli', fontsize = 13, color ='blue')\n",
    "sns.scatterplot(x=x, y=y)\n",
    "\n",
    "pylab.rcParams.update(rcParams)\n",
    "fig.tight_layout()\n",
    "fig.subplots_adjust(top=0.93)\n",
    "plt.show()\n",
    "\n",
    "#fig.savefig('FloorNo_Price_Scatter', dpi = 500)"
   ]
  },
  {
   "attachments": {},
   "cell_type": "markdown",
   "metadata": {},
   "source": [
    "Continuous Variables"
   ]
  },
  {
   "cell_type": "code",
   "execution_count": null,
   "metadata": {},
   "outputs": [],
   "source": [
    "for i in continous_variable:\n",
    "    print(\"Length of\", i,\":\", len(NJ_prop[i].unique()))"
   ]
  },
  {
   "attachments": {},
   "cell_type": "markdown",
   "metadata": {},
   "source": [
    "Price with respect to SqFt Area"
   ]
  },
  {
   "cell_type": "code",
   "execution_count": null,
   "metadata": {},
   "outputs": [],
   "source": [
    "fig = plt.figure(figsize=(12,8))\n",
    "\n",
    "group_full = NJ_prop.groupby('Area_SqFt')['Price'].mean()\n",
    "group = group_full.reset_index()\n",
    "group = group[group['Area_SqFt'] > 0]\n",
    "group = group[group['Area_SqFt'] < 2000]\n",
    "\n",
    "x = group['Area_SqFt']\n",
    "y = group['Price']\n",
    "fig.suptitle('Mean Price with respect to SqFt Area', fontsize= 18 , fontweight='bold')\n",
    "# fig.text(0.9, 0.15, 'Shanu Halli', fontsize = 13, color ='black')\n",
    "sns.scatterplot(x=x, y=y)\n",
    "\n",
    "pylab.rcParams.update(rcParams)\n",
    "fig.tight_layout()\n",
    "fig.subplots_adjust(top=0.93)\n",
    "plt.show()\n",
    "\n",
    "#fig.savefig('SqFt_Area_Price_Scatter', dpi = 500)"
   ]
  },
  {
   "attachments": {},
   "cell_type": "markdown",
   "metadata": {},
   "source": [
    "Target Variable"
   ]
  },
  {
   "cell_type": "code",
   "execution_count": null,
   "metadata": {},
   "outputs": [],
   "source": [
    "NJ_prop['Price_Cat'] = pd.cut(x = NJ_prop['Price'], bins = [13,70,190,16500], labels=['Low','Medium','High'], right = False)\n",
    "NJ_prop.Price_Cat.value_counts()"
   ]
  },
  {
   "attachments": {},
   "cell_type": "markdown",
   "metadata": {},
   "source": [
    "Checking for Imbalanced or balanced dataset with regards to the Target"
   ]
  },
  {
   "cell_type": "code",
   "execution_count": null,
   "metadata": {},
   "outputs": [],
   "source": [
    "fig = plt.figure(figsize = (8,8))\n",
    "\n",
    "plt.pie(NJ_prop['Price_Cat'].value_counts(), labels= ['$70 - $190','$190 onwards','up to $70'],\n",
    "        explode= [0.005,0.005,0.005], autopct= '%.2f%%', startangle= 181, textprops= {'size':'large','fontweight':'bold'})\n",
    "plt.legend(loc= 'upper right')\n",
    "plt.title(\"Price Range Level Distribution\", fontsize = 18, fontweight = 'bold')\n",
    "# fig.text(0.9, 0.15, 'Shanu', fontsize = 13, color ='red')\n",
    "\n",
    "pylab.rcParams.update(rcParams)\n",
    "fig.tight_layout()\n",
    "fig.subplots_adjust(top=0.93)\n",
    "plt.show()\n",
    "\n",
    "#fig.savefig('Price_Range_Distribution', dpi = 500)"
   ]
  },
  {
   "cell_type": "code",
   "execution_count": null,
   "metadata": {},
   "outputs": [],
   "source": [
    "fig, ax = plt.subplots(2,1, figsize = (12,10))\n",
    "\n",
    "fig.suptitle('Price with respect to Property Count', size = 18, fontweight=\"bold\")\n",
    "# fig.text(0.9, 0.15, 'Shanu Halli', fontsize = 13, color ='red')\n",
    "sns.histplot(ax= ax[0],data=NJ_prop[\"Price\"], kde =  True, bins = 200)\n",
    "sns.boxplot(ax= ax[1], data=NJ_prop[\"Price\"], orient=\"h\", palette='muted')\n",
    "\n",
    "pylab.rcParams.update(rcParams)\n",
    "fig.tight_layout()\n",
    "fig.subplots_adjust(top=0.93)\n",
    "plt.show()\n",
    "\n",
    "#fig.savefig('Price_Count_Bar', dpi = 500)\n"
   ]
  },
  {
   "attachments": {},
   "cell_type": "markdown",
   "metadata": {},
   "source": [
    "Bar plot Region-wise Price"
   ]
  },
  {
   "cell_type": "code",
   "execution_count": null,
   "metadata": {},
   "outputs": [],
   "source": [
    "import plotly.graph_objects as px\n",
    "import plotly.express as go\n",
    "import numpy as np\n",
    "\n",
    "x = NJ_prop['Region']\n",
    "y = NJ_prop['Price']\n",
    "\n",
    "plot = px.Figure(data=[px.Bar(x=x, y=y)])\n",
    "plot.update_layout(xaxis=dict(rangeselector=dict(buttons=list([dict(count=1,stepmode=\"backward\")])),\n",
    "                              rangeslider=dict(visible=True)),width=900, height=900)\n",
    "\n",
    "plot.show()"
   ]
  },
  {
   "attachments": {},
   "cell_type": "markdown",
   "metadata": {},
   "source": [
    "Check for a given region how 2, 3, and 4 bhk (bedroom, hall, kitchen) property prices are distributed "
   ]
  },
  {
   "cell_type": "code",
   "execution_count": null,
   "metadata": {},
   "outputs": [],
   "source": [
    "NJ_prop.Region.nunique()"
   ]
  },
  {
   "cell_type": "code",
   "execution_count": null,
   "metadata": {},
   "outputs": [],
   "source": [
    "def plot_scatter_chart1(NJ_prop,Region):\n",
    "    fig  = plt.figure(figsize=(10,7))\n",
    "    bhk2 = NJ_prop[(NJ_prop.Region==Region) & (NJ_prop.Bedroom==2)]\n",
    "    bhk3 = NJ_prop[(NJ_prop.Region==Region) & (NJ_prop.Bedroom==3)]\n",
    "    bhk4 = NJ_prop[(NJ_prop.Region==Region) & (NJ_prop.Bedroom==4)]\n",
    "    plt.rcParams['figure.figsize'] = (14,12)\n",
    "    sns.scatterplot(x=bhk2.Area_SqFt,y=bhk2.Price,marker='p',color='blue',label='2 BHK',s=100)\n",
    "    sns.scatterplot(x=bhk3.Area_SqFt,y=bhk3.Price,marker='o',color='red',label='3 BHK',s=100)\n",
    "    sns.scatterplot(x=bhk4.Area_SqFt,y=bhk4.Price,marker='*',color='green',label='4 BHK',s=300)\n",
    "    plt.xlabel(\"Total Square Feet Area\", )\n",
    "    plt.ylabel(\"Price (US Dollars)\")\n",
    "    plt.title(Region, fontsize = 18, fontweight=\"bold\")\n",
    "    # fig.text(0.9, 0.15, 'Shanu Halli', fontsize = 13, color ='blue')\n",
    "    \n",
    "      \n",
    "    pylab.rcParams.update(rcParams)\n",
    "    plt.legend(fontsize = 12)\n",
    "    fig.tight_layout()\n",
    "    fig.subplots_adjust(top=0.90)\n",
    "    #fig.savefig(Region, dpi = 500)"
   ]
  },
  {
   "cell_type": "code",
   "execution_count": null,
   "metadata": {},
   "outputs": [],
   "source": [
    "# plot_scatter_chart1(NJ_prop,\"Flemington\")"
   ]
  }
 ],
 "metadata": {
  "language_info": {
   "name": "python"
  },
  "orig_nbformat": 4
 },
 "nbformat": 4,
 "nbformat_minor": 2
}
