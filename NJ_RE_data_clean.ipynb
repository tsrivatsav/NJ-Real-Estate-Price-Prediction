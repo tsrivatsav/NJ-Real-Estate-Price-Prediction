{
 "cells": [
  {
   "attachments": {},
   "cell_type": "markdown",
   "metadata": {},
   "source": [
    "Import Dependecies"
   ]
  },
  {
   "cell_type": "code",
   "execution_count": null,
   "metadata": {},
   "outputs": [],
   "source": [
    "import re\n",
    "import string\n",
    "import pandas as pd\n",
    "\n",
    "import warnings\n",
    "warnings.filterwarnings('ignore')"
   ]
  },
  {
   "attachments": {},
   "cell_type": "markdown",
   "metadata": {},
   "source": [
    "Import Dataset"
   ]
  },
  {
   "cell_type": "code",
   "execution_count": null,
   "metadata": {},
   "outputs": [],
   "source": [
    "raw_data = pd.read_csv(\"Raw_Property.csv\")\n",
    "raw_data"
   ]
  },
  {
   "attachments": {},
   "cell_type": "markdown",
   "metadata": {},
   "source": [
    "Data Preprocessing"
   ]
  },
  {
   "attachments": {},
   "cell_type": "markdown",
   "metadata": {},
   "source": [
    "Remove unwanted symbols and text"
   ]
  },
  {
   "cell_type": "code",
   "execution_count": null,
   "metadata": {},
   "outputs": [],
   "source": [
    "raw_data[\"Property_Age\"] = raw_data[\"Property_Age\"].str.replace(' Old','')"
   ]
  },
  {
   "cell_type": "code",
   "execution_count": null,
   "metadata": {},
   "outputs": [],
   "source": [
    "raw_data[\"Rate_SqFt\"] = raw_data[\"Rate_SqFt\"].str.replace(',','')"
   ]
  },
  {
   "cell_type": "code",
   "execution_count": null,
   "metadata": {},
   "outputs": [],
   "source": [
    "raw_data[\"Availability\"] = raw_data[\"Availability\"].str.title()\n",
    "raw_data[\"Availability\"] = raw_data[\"Availability\"].str.replace(' Property','')\n",
    "raw_data[\"Availability\"] = [i.lstrip() for i in raw_data[\"Availability\"]]"
   ]
  },
  {
   "cell_type": "code",
   "execution_count": null,
   "metadata": {},
   "outputs": [],
   "source": [
    "raw_data.Availability.unique()"
   ]
  },
  {
   "attachments": {},
   "cell_type": "markdown",
   "metadata": {},
   "source": [
    "Set column area in sqft"
   ]
  },
  {
   "cell_type": "code",
   "execution_count": null,
   "metadata": {},
   "outputs": [],
   "source": [
    "area=[]\n",
    "for i in range(2581):\n",
    "    clean_sqft = re.sub('[^0-9.]', \" \", raw_data[\"Area_Type\"][i])\n",
    "    area.append(clean_sqft.split()[0])\n",
    "raw_data['Area_SqFt']=area"
   ]
  },
  {
   "attachments": {},
   "cell_type": "markdown",
   "metadata": {},
   "source": [
    "Set column type of carpet area"
   ]
  },
  {
   "cell_type": "code",
   "execution_count": null,
   "metadata": {},
   "outputs": [],
   "source": [
    "carpet=[]\n",
    "for i in range(2581):\n",
    "    clean_carpet = re.sub('[^a-zA-Z]', \" \", raw_data['Area_Type'][i])\n",
    "    carpet.append(clean_carpet.split()[0]+' '+clean_carpet.split()[1])\n",
    "raw_data['Area_Type']=carpet"
   ]
  },
  {
   "cell_type": "code",
   "execution_count": null,
   "metadata": {},
   "outputs": [],
   "source": [
    "raw_data['Area_Type'] = raw_data.Area_Type.str.title()"
   ]
  },
  {
   "cell_type": "code",
   "execution_count": null,
   "metadata": {},
   "outputs": [],
   "source": [
    "raw_data['Area_Type'] = raw_data.Area_Type.str.replace('Super Built','Super Built Up')\n",
    "raw_data['Area_Type'] = raw_data.Area_Type.str.replace('Built Up','Built Up Area')\n",
    "raw_data['Area_Type'] = raw_data.Area_Type.str.replace('Carpet Area ','Carpet Area')"
   ]
  },
  {
   "cell_type": "code",
   "execution_count": null,
   "metadata": {},
   "outputs": [],
   "source": [
    "raw_data.Area_Type.unique()"
   ]
  },
  {
   "attachments": {},
   "cell_type": "markdown",
   "metadata": {},
   "source": [
    "Remove unwanted text from floor no."
   ]
  },
  {
   "cell_type": "code",
   "execution_count": null,
   "metadata": {},
   "outputs": [],
   "source": [
    "raw_data['Floor_No'] = raw_data.Floor_No.str.replace('Ground','0')\n",
    "raw_data['Floor_No'] = raw_data.Floor_No.str.replace('Basement','-1')"
   ]
  },
  {
   "cell_type": "code",
   "execution_count": null,
   "metadata": {},
   "outputs": [],
   "source": [
    "floor=[]\n",
    "for i in range(2581):\n",
    "    clean_sqft = re.sub('[^0-9-]', \"\", raw_data[\"Floor_No\"][i])\n",
    "    floor.append(clean_sqft)\n",
    "raw_data['Floor_No']=floor"
   ]
  },
  {
   "attachments": {},
   "cell_type": "markdown",
   "metadata": {},
   "source": [
    "Define region column"
   ]
  },
  {
   "cell_type": "code",
   "execution_count": null,
   "metadata": {},
   "outputs": [],
   "source": [
    "raw_data[\"Location\"] = [i.lstrip() for i in raw_data[\"Location\"]]"
   ]
  },
  {
   "cell_type": "code",
   "execution_count": null,
   "metadata": {},
   "outputs": [],
   "source": [
    "location=[]\n",
    "for i in range(2581):\n",
    "    clean_location = re.sub('[^a-zA-Z-]', \" \", raw_data[\"Location\"][i])\n",
    "    location.append(clean_location)\n",
    "raw_data['Region']=location"
   ]
  },
  {
   "cell_type": "code",
   "execution_count": null,
   "metadata": {},
   "outputs": [],
   "source": [
    "raw_data['Region'] = raw_data.Region.str.title()\n",
    "words = ['[0-9]','East','West','South','Suburbs','Sector','Beyond','And Beyond', 'Scheme']\n",
    "raw_data[\"Region\"] = raw_data[\"Region\"].str.replace('|'.join(words), '', regex=True).str.strip()"
   ]
  },
  {
   "cell_type": "code",
   "execution_count": null,
   "metadata": {},
   "outputs": [],
   "source": [
    "raw_data"
   ]
  },
  {
   "cell_type": "code",
   "execution_count": null,
   "metadata": {},
   "outputs": [],
   "source": [
    "location=[]\n",
    "for i in range(2581):\n",
    "    try:\n",
    "        location.append(raw_data['Region'][i].split()[-3]+' '+raw_data['Region'][i].split()[-2])\n",
    "    except:\n",
    "        location.append(raw_data['Region'][i].split()[-2]+' '+raw_data['Region'][i].split()[-1])\n",
    "raw_data['Region']=location"
   ]
  },
  {
   "cell_type": "code",
   "execution_count": null,
   "metadata": {},
   "outputs": [],
   "source": [
    "raw_data.Region.value_counts().head(30)"
   ]
  },
  {
   "cell_type": "code",
   "execution_count": null,
   "metadata": {},
   "outputs": [],
   "source": [
    "add=[]\n",
    "for i in range(2581):\n",
    "    clean_add = re.sub('[^a-zA-Z0-9]', \" \", raw_data[\"Location\"][i])\n",
    "    add.append(clean_add)\n",
    "raw_data['Location']=add"
   ]
  },
  {
   "cell_type": "code",
   "execution_count": null,
   "metadata": {},
   "outputs": [],
   "source": [
    "raw_data[\"Location\"] = raw_data[\"Location\"].str.replace('   ',' ')\n",
    "raw_data[\"Location\"] = raw_data[\"Location\"].str.replace('  ',' ')"
   ]
  },
  {
   "cell_type": "code",
   "execution_count": null,
   "metadata": {},
   "outputs": [],
   "source": [
    "raw_data"
   ]
  },
  {
   "attachments": {},
   "cell_type": "markdown",
   "metadata": {},
   "source": [
    "Check for null values"
   ]
  },
  {
   "cell_type": "code",
   "execution_count": null,
   "metadata": {},
   "outputs": [],
   "source": [
    "raw_data.isna().sum()"
   ]
  },
  {
   "cell_type": "code",
   "execution_count": null,
   "metadata": {},
   "outputs": [],
   "source": [
    "raw_data.dropna(inplace=True)\n",
    "raw_data.reset_index(drop=True, inplace=True)"
   ]
  },
  {
   "cell_type": "code",
   "execution_count": null,
   "metadata": {},
   "outputs": [],
   "source": [
    "raw_data = raw_data.to_csv('Property_Location.csv', index=False)"
   ]
  },
  {
   "attachments": {},
   "cell_type": "markdown",
   "metadata": {},
   "source": [
    "Sort columns"
   ]
  },
  {
   "cell_type": "code",
   "execution_count": null,
   "metadata": {},
   "outputs": [],
   "source": [
    "raw_data = pd.read_csv('Property_Location.csv')"
   ]
  },
  {
   "cell_type": "code",
   "execution_count": null,
   "metadata": {},
   "outputs": [],
   "source": [
    "raw_data = raw_data[['Property_Name','Location','Region','Property_Age','Availability','Area_Type','Area_SqFt','Rate_SqFt','Floor_No','Bedroom','Bathroom','Price']]\n",
    "raw_data"
   ]
  },
  {
   "attachments": {},
   "cell_type": "markdown",
   "metadata": {},
   "source": [
    "Create csv file"
   ]
  },
  {
   "cell_type": "code",
   "execution_count": null,
   "metadata": {},
   "outputs": [],
   "source": [
    "property_NJ = raw_data.to_csv('NJ_Property.csv', index=False)"
   ]
  },
  {
   "cell_type": "code",
   "execution_count": null,
   "metadata": {},
   "outputs": [],
   "source": [
    "property_NJ = pd.read_csv('NJ_Property.csv')\n",
    "property_NJ"
   ]
  }
 ],
 "metadata": {
  "kernelspec": {
   "display_name": "Python 3",
   "language": "python",
   "name": "python3"
  },
  "language_info": {
   "name": "python",
   "version": "3.9.1"
  },
  "orig_nbformat": 4,
  "vscode": {
   "interpreter": {
    "hash": "8e88e00bc84be2fb3b6390223d7e814b1d411a1cdc7cf7c376b36be6730566a5"
   }
  }
 },
 "nbformat": 4,
 "nbformat_minor": 2
}
